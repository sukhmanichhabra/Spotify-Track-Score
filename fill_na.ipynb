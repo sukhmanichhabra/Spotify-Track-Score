{
 "cells": [
  {
   "cell_type": "code",
   "execution_count": 2,
   "metadata": {},
   "outputs": [
    {
     "name": "stdout",
     "output_type": "stream",
     "text": [
      "Warning: 'Artist' column has missing values. Filling these before proceeding.\n",
      "\n",
      "Missing values after attempting to fill with artist averages:\n",
      "Total_Views               519\n",
      "Total_likes               522\n",
      "Total_streams            2005\n",
      "Total_reach               852\n",
      "Total_counts              921\n",
      "Spotify Popularity        361\n",
      "Amazon Playlist Count     707\n",
      "dtype: int64\n",
      "\n",
      "Still missing values found. Considering alternative strategies:\n",
      "\n",
      "Missing values after filling with global averages:\n",
      "Total_Views              0\n",
      "Total_likes              0\n",
      "Total_streams            0\n",
      "Total_reach              0\n",
      "Total_counts             0\n",
      "Spotify Popularity       0\n",
      "Amazon Playlist Count    0\n",
      "dtype: int64\n"
     ]
    }
   ],
   "source": [
    "import pandas as pd\n",
    "\n",
    "df = pd.read_csv('cleaned_data_no_outliers.csv')\n",
    "\n",
    "columns_to_fill = ['Total_Views', 'Total_likes', 'Total_streams', 'Total_reach', 'Total_counts' , \"Spotify Popularity\" , \"Amazon Playlist Count\"]\n",
    "\n",
    "if df['Artist'].isna().any():\n",
    "    print(\"Warning: 'Artist' column has missing values. Filling these before proceeding.\")\n",
    "    df = df.dropna(subset=['Artist'])\n",
    "\n",
    "artist_averages = df.groupby('Artist')[columns_to_fill].mean()\n",
    "\n",
    "def fill_missing_with_artist_avg(row, columns_to_fill, artist_averages):\n",
    "    artist = row['Artist']\n",
    "    if artist in artist_averages.index:\n",
    "        for column in columns_to_fill:\n",
    "            if pd.isna(row[column]):\n",
    "                row[column] = artist_averages.loc[artist, column]\n",
    "    return row\n",
    "\n",
    "df = df.apply(fill_missing_with_artist_avg, columns_to_fill=columns_to_fill, artist_averages=artist_averages, axis=1)\n",
    "\n",
    "missing_after_fill = df[columns_to_fill].isna().sum()\n",
    "\n",
    "print(\"\\nMissing values after attempting to fill with artist averages:\")\n",
    "print(missing_after_fill)\n",
    "\n",
    "if missing_after_fill.any():\n",
    "    print(\"\\nStill missing values found. Considering alternative strategies:\")\n",
    "    global_averages = df[columns_to_fill].mean()\n",
    "    \n",
    "    df[columns_to_fill] = df[columns_to_fill].fillna(global_averages)\n",
    "    \n",
    "    missing_after_global_fill = df[columns_to_fill].isna().sum()\n",
    "    print(\"\\nMissing values after filling with global averages:\")\n",
    "    print(missing_after_global_fill)\n"
   ]
  },
  {
   "cell_type": "code",
   "execution_count": 3,
   "metadata": {},
   "outputs": [],
   "source": [
    "df.to_csv('final.csv', index=False)"
   ]
  }
 ],
 "metadata": {
  "kernelspec": {
   "display_name": "Python 3",
   "language": "python",
   "name": "python3"
  },
  "language_info": {
   "codemirror_mode": {
    "name": "ipython",
    "version": 3
   },
   "file_extension": ".py",
   "mimetype": "text/x-python",
   "name": "python",
   "nbconvert_exporter": "python",
   "pygments_lexer": "ipython3",
   "version": "3.11.7"
  }
 },
 "nbformat": 4,
 "nbformat_minor": 2
}
